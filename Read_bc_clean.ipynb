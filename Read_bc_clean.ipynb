{
 "cells": [
  {
   "cell_type": "code",
   "execution_count": 1,
   "metadata": {},
   "outputs": [],
   "source": [
    "# Import \n",
    "#from dilution_clean_dat import * # Source code\n",
    "from __future__ import division    # Solve problem of division in Python2\n",
    "import numpy as np                 # Math library\n",
    "import matplotlib.pyplot as plt    # Plots\n",
    "import sys                         # Directly print to output file\n",
    "%matplotlib inline\n",
    "\n",
    "# Global vars\n",
    "REPLICA = '1'\n",
    "STRAIN = 'DivAnc'\n",
    "MEDIA = 'SC3'\n",
    "#MEDIA = 'SC7'\n",
    "NEUTRAL = 'HO'\n",
    "BCID_REF = [325789, 325791]"
   ]
  },
  {
   "cell_type": "code",
   "execution_count": 7,
   "metadata": {},
   "outputs": [
    {
     "name": "stdout",
     "output_type": "stream",
     "text": [
      "BC ID\tMUT ID\tSTRAIN\tENV\tDAY\tT0\tT1\tT2\tT3\tT4 1\t185\tDivAnc\tYPD\t1\tNaN\tNaN\tNaN\tNaN\tNaN\n"
     ]
    }
   ],
   "source": [
    "inputfile = '/home/hukuo/MyPython/large files/bc_clean.txt'\n",
    "f = open(inputfile,'r')\n",
    "dat = f.read().split('\\n')  # read file matrix and save in 1-dimension dat\n",
    "f.close()\n",
    "\n"
   ]
  },
  {
   "cell_type": "code",
   "execution_count": 32,
   "metadata": {},
   "outputs": [],
   "source": [
    "#print dat[0:3]\n",
    "COL = 10\n",
    "ROW = len(dat)\n",
    "tmp = dat[0].split('\\t')\n",
    "#print tmp[2]\n",
    "outputfile = '/home/hukuo/MyPython/large files/'+REPLICA+'_'+STRAIN+'_'+MEDIA+'_clean.txt' \n",
    "fout = open(outputfile,'w')\n",
    "orig_stdout = sys.stdout  #using system to 'print' to ouput file\n",
    "sys.stdout = fout\n",
    "sout =''\n",
    "for col in range(0,COL-1):\n",
    "    sout += tmp[col]+'\\t'\n",
    "sout += tmp[COL-1] #+ '\\n'\n",
    "print sout\n",
    "\n",
    "for row in range(0,ROW-1):\n",
    "    tmp = dat[row].split('\\t')\n",
    "    if tmp[2] == STRAIN and tmp[3]==MEDIA and tmp[4]==REPLICA and tmp[5]!='NaN':\n",
    "        sout =''\n",
    "        for col in range(0,COL-1):\n",
    "            sout += tmp[col]+'\\t'\n",
    "        sout += tmp[COL-1] #+ '\\n'\n",
    "        print sout\n",
    "sys.stdout = orig_stdout\n",
    "fout.close()"
   ]
  },
  {
   "cell_type": "code",
   "execution_count": null,
   "metadata": {},
   "outputs": [],
   "source": []
  }
 ],
 "metadata": {
  "kernelspec": {
   "display_name": "Python 2",
   "language": "python",
   "name": "python2"
  },
  "language_info": {
   "codemirror_mode": {
    "name": "ipython",
    "version": 2
   },
   "file_extension": ".py",
   "mimetype": "text/x-python",
   "name": "python",
   "nbconvert_exporter": "python",
   "pygments_lexer": "ipython2",
   "version": "2.7.6"
  }
 },
 "nbformat": 4,
 "nbformat_minor": 2
}
