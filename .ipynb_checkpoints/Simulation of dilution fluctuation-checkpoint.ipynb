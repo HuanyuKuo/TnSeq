{
 "cells": [
  {
   "cell_type": "code",
   "execution_count": 1,
   "metadata": {},
   "outputs": [
    {
     "name": "stdout",
     "output_type": "stream",
     "text": [
      "ddd\n"
     ]
    }
   ],
   "source": [
    "# Import \n",
    "\n",
    "from dilution import * # Source code\n",
    "\n",
    "\n",
    "from __future__ import division    # Solve problem of division in Python2\n",
    "#import dilution\n",
    "#from copy import deepcopy\n",
    "\n",
    "# Global vars\n",
    "REPLICA = '1'\n",
    "STRAIN = 'DivAnc'\n",
    "MEDIA = 'SC3'\n",
    "BCID_REF1 = 325789\n",
    "BCID_REF2 = 325791 \n",
    "print(\"ddd\")"
   ]
  },
  {
   "cell_type": "code",
   "execution_count": 2,
   "metadata": {},
   "outputs": [
    {
     "name": "stdout",
     "output_type": "stream",
     "text": [
      "./source/1_DivAnc_SC3_gen0.txt\n",
      "./source/1_DivAnc_SC3_gen10.txt\n",
      "./source/1_DivAnc_SC3_gen20.txt\n",
      "./source/1_DivAnc_SC3_gen30.txt\n",
      "./source/1_DivAnc_SC3_gen40.txt\n",
      "[358033, 2083405, 1044948, 2098002, 1619705]\n",
      "1.0\n"
     ]
    }
   ],
   "source": [
    "x = Dilution(REPLICA,STRAIN,MEDIA,BCID_REF1,BCID_REF2)\n",
    "x.read_files()"
   ]
  },
  {
   "cell_type": "code",
   "execution_count": 3,
   "metadata": {},
   "outputs": [
    {
     "name": "stdout",
     "output_type": "stream",
     "text": [
      "[array([  2.79303863e-06,   1.87133588e-04,   2.79303863e-06, ...,\n",
      "         2.79303863e-06,   2.79303863e-06,   7.26190044e-05]), array([0, 0, 0, ..., 0, 0, 0]), array([0, 0, 0, ..., 0, 0, 1]), array([0, 0, 0, ..., 0, 0, 1]), array([0, 0, 0, ..., 0, 0, 1]), array([0, 0, 0, ..., 0, 0, 1]), array([0, 0, 0, ..., 0, 0, 1]), array([0, 0, 0, ..., 0, 0, 1]), array([0, 0, 0, ..., 0, 0, 1]), array([0, 0, 0, ..., 0, 0, 1])]\n"
     ]
    }
   ],
   "source": [
    "x.dilutions()"
   ]
  },
  {
   "cell_type": "code",
   "execution_count": null,
   "metadata": {},
   "outputs": [],
   "source": []
  }
 ],
 "metadata": {
  "kernelspec": {
   "display_name": "Python 2",
   "language": "python",
   "name": "python2"
  },
  "language_info": {
   "codemirror_mode": {
    "name": "ipython",
    "version": 2
   },
   "file_extension": ".py",
   "mimetype": "text/x-python",
   "name": "python",
   "nbconvert_exporter": "python",
   "pygments_lexer": "ipython2",
   "version": "2.7.6"
  }
 },
 "nbformat": 4,
 "nbformat_minor": 2
}
