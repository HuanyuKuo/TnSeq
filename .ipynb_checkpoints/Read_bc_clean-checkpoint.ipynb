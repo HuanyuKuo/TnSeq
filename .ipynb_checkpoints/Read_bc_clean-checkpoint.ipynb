{
 "cells": [
  {
   "cell_type": "code",
   "execution_count": null,
   "metadata": {},
   "outputs": [],
   "source": [
    "# Import \n",
    "#from dilution_clean_dat import * # Source code\n",
    "from __future__ import division    # Solve problem of division in Python2\n",
    "import numpy as np                 # Math library\n",
    "import matplotlib.pyplot as plt    # Plots\n",
    "import sys                         # Directly print to output file\n",
    "%matplotlib inline\n",
    "\n",
    "# Global vars\n",
    "REPLICA = '1'\n",
    "STRAIN = 'DivAnc'\n",
    "MEDIA = 'SC3'\n",
    "#MEDIA = 'SC7'\n",
    "NEUTRAL = 'HO'\n",
    "BCID_REF = [325789, 325791]"
   ]
  },
  {
   "cell_type": "code",
   "execution_count": null,
   "metadata": {},
   "outputs": [],
   "source": [
    "inputfile = '\\home\\hukuo\\MyPython\\large files\\bc_clean.txt'\n",
    "fopen(inputfile,'r')\n",
    "fclose()"
   ]
  }
 ],
 "metadata": {
  "kernelspec": {
   "display_name": "Python 2",
   "language": "python",
   "name": "python2"
  },
  "language_info": {
   "codemirror_mode": {
    "name": "ipython",
    "version": 2
   },
   "file_extension": ".py",
   "mimetype": "text/x-python",
   "name": "python",
   "nbconvert_exporter": "python",
   "pygments_lexer": "ipython2",
   "version": "2.7.6"
  }
 },
 "nbformat": 4,
 "nbformat_minor": 2
}
