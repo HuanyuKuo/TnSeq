{
 "cells": [
  {
   "cell_type": "code",
   "execution_count": 1,
   "metadata": {},
   "outputs": [],
   "source": [
    "# Import \n",
    "from dilution_clean_dat import * # Source code\n",
    "from __future__ import division    # Solve problem of division in Python2\n",
    "import matplotlib as mpl\n",
    "from IPython.display import clear_output\n",
    "clear_output(wait=True)\n",
    "# Global vars\n",
    "REPLICA = '1'\n",
    "STRAIN = 'DivAnc'\n",
    "MEDIA = 'SC3'\n",
    "NEUTRAL = 'HO'\n",
    "BNSIZE = 1*(10**5)\n",
    "BCID_REF = [325789, 325791]"
   ]
  },
  {
   "cell_type": "code",
   "execution_count": 2,
   "metadata": {},
   "outputs": [
    {
     "name": "stderr",
     "output_type": "stream",
     "text": [
      "dilution_clean_dat.py:195: RuntimeWarning: divide by zero encountered in log\n",
      "  y = np.log(scaled_reads[0:self.N_GEN,bc])\n",
      "/usr/lib/python2.7/dist-packages/numpy/lib/function_base.py:1750: RuntimeWarning: invalid value encountered in subtract\n",
      "  X -= X.mean(axis=1-axis)[tup]\n"
     ]
    }
   ],
   "source": [
    "# Runs \n",
    "x = Dilution(REPLICA, STRAIN, MEDIA, BCID_REF, NEUTRAL,BNSIZE) # class Dilution\n",
    "x.read_files()\n",
    "x.get_experimental_s()\n",
    "x.runs()"
   ]
  },
  {
   "cell_type": "code",
   "execution_count": null,
   "metadata": {},
   "outputs": [],
   "source": [
    "# Plot Experimetnal s dist\n",
    "UPBOUND2, s_plot2 = x.sort_s_for_plot(x.s_slope)\n",
    "#x.plot_s_dist(x.s_slope) # experiment\n",
    "plt.figure()\n",
    "s_percent2 = [100*s_plot2[i] for i in range(0,UPBOUND2)]\n",
    "#plt.hist(s_percent, 16, label = 'simulation', alpha=0.3)\n",
    "plt.hist(s_percent2, 15, label= 'DicAnc_1_SC3\\nExperiment', alpha=0.5)\n",
    "#plt.title('Histogram of selection coefficient')\n",
    "plt.ylabel('# BC index',fontsize='20')\n",
    "plt.xlabel('s (per generation) %',fontsize='20')\n",
    "plt.legend(loc=\"best\")\n",
    "plt.show()"
   ]
  },
  {
   "cell_type": "code",
   "execution_count": null,
   "metadata": {},
   "outputs": [],
   "source": [
    "# Plot Experimental f to generation\n",
    "plt.figure()\n",
    "xx = np.arange(0,45,step=10)\n",
    "plt.xticks(xx)\n",
    "col = plt.cm.jet(np.linspace(0,1,20)) \n",
    "for bc in range(0,len(x.s_slope)):\n",
    "    s = x.s_slope[bc] \n",
    "    if np.isnan(s) == False: # if s is NOT Nan\n",
    "        y = np.log10(x.s_freq[bc])\n",
    "        cidx = int( (((0.1+s)>0)&((-0.1+s)<0))*(0.1+s)*100+ ((-0.1+s)>=0)*10)\n",
    "        plt.plot(xx,y,color=col[cidx])\n",
    "        plt.ylim(-6.2,-1.5)\n",
    "plt.ylabel(r'Log10($\\mathregular{f^{\\, i}}$)',fontsize='20')\n",
    "plt.xlabel('generation',fontsize='20')\n",
    "plt.show()"
   ]
  },
  {
   "cell_type": "code",
   "execution_count": null,
   "metadata": {},
   "outputs": [],
   "source": [
    "# plot s_std(experimental) to initial freq\n",
    "exp_ini_freq = x.s_inifreq\n",
    "exp_end_freq = x.s_endfreq\n",
    "exp_s = x.s_slope\n",
    "exp_s_err = x.s_stderr\n",
    "\n",
    "# plot s_std to initial freq\n",
    "plt.figure(num=None, figsize=(15, 5), dpi=80)\n",
    "plt.plot([2,1,3])\n",
    "plt.subplot(121)\n",
    "plt.ylim(0,5)\n",
    "yy = [std*float(100) for std in x.s_record_std]\n",
    "plt.plot(np.log10(x.pvals),yy,'r.',label='Simu.')\n",
    "yy = [std*float(100) for std in exp_s_err]\n",
    "plt.plot(np.log10(exp_ini_freq),yy,'.',label='Expe.')\n",
    "plt.xlabel(r'Log10 ( $\\mathregular{f_0}$ )', fontsize=20)\n",
    "plt.ylabel(r'$\\mathregular{\\sigma_s}$'+'\\n(%)', fontsize=20,rotation=0, labelpad=20)\n",
    "#plt.plot(np.log10(exp_ini_freq),a,'k')\n",
    "plt.legend(loc=\"best\", fontsize=18)\n",
    "plt.subplot(122)\n",
    "plt.ylim(0,5)\n",
    "yy = [std*float(100) for std in exp_s_err]\n",
    "plt.plot(np.log10(exp_ini_freq),yy,'.',label='Expe.')\n",
    "yy = [std*float(100) for std in x.s_record_std]\n",
    "plt.plot(np.log10(x.pvals),yy,'r.',label='Simu.')\n",
    "plt.xlabel(r'Log10 ( $\\mathregular{f_0}$ )', fontsize=20)\n",
    "plt.ylabel(r'$\\mathregular{\\sigma_s}$'+'\\n(%)', fontsize=20,rotation=0, labelpad=20)\n",
    "plt.legend(loc=\"best\", fontsize=18)\n",
    "#plt.show()\n",
    "\n",
    "# plot s_std to initial freq\n",
    "plt.figure(num=None, figsize=(15, 5), dpi=80)\n",
    "plt.plot([2,1,3])\n",
    "plt.subplot(121)\n",
    "plt.ylim(0,5)\n",
    "col = plt.cm.jet(np.linspace(0,1,20)) \n",
    "for i in range(0,len(x.pvals)):\n",
    "    s = x.s_record[i]\n",
    "    if np.isnan(s)==0:\n",
    "        cidx = int( (((0.1+s)>0)&((-0.1+s)<0))*(0.1+s)*100+ ((-0.1+s)>=0)*10)\n",
    "        log10f0 = np.log10(x.pvals[i])\n",
    "        s_std = x.s_record_std[i]*float(100)\n",
    "        plt.plot(log10f0,s_std,color=col[cidx], marker='.')\n",
    "plt.xlabel(r'Log10 ( $\\mathregular{f_0}$ )', fontsize=20)\n",
    "plt.ylabel(r'$\\mathregular{\\sigma_s}$'+'\\n(%)', fontsize=20,rotation=0, labelpad=20)\n",
    "plt.title('Simulation', fontsize=18)\n",
    "plt.subplot(122)\n",
    "plt.ylim(0,5)\n",
    "for i in range(0,len(exp_ini_freq)):\n",
    "    s = exp_s[i]\n",
    "    if np.isnan(s)==0:\n",
    "        cidx = int( (((0.1+s)>0)&((-0.1+s)<0))*(0.1+s)*100+ ((-0.1+s)>=0)*10)\n",
    "        log10f0 = np.log10(exp_ini_freq[i])\n",
    "        s_std = exp_s_err[i]*float(100)\n",
    "        plt.plot(log10f0,s_std,color=col[cidx], marker='.')\n",
    "plt.xlabel(r'Log10 ( $\\mathregular{f_0}$ )', fontsize=20)\n",
    "plt.ylabel(r'$\\mathregular{\\sigma_s}$'+'\\n(%)', fontsize=20,rotation=0, labelpad=20)\n",
    "plt.title('Experiment', fontsize=18)\n",
    "plt.show()\n",
    "\n"
   ]
  },
  {
   "cell_type": "code",
   "execution_count": null,
   "metadata": {
    "scrolled": true
   },
   "outputs": [],
   "source": [
    "# plot colorbar\n",
    "fig = plt.figure(figsize=(0.5, 5))\n",
    "ax1 = fig.add_axes([0.05, 0.05, 0.2, 0.9])\n",
    "cmap = mpl.cm.jet\n",
    "norm = mpl.colors.Normalize(vmin=-10, vmax=10)\n",
    "\n",
    "# ColorbarBase derives from ScalarMappable and puts a colorbar\n",
    "# in a specified axes, so it has everything needed for a\n",
    "# standalone colorbar.  There are many more kwargs, but the\n",
    "# following gives a basic continuous colorbar with ticks\n",
    "# and labels.\n",
    "cb1 = mpl.colorbar.ColorbarBase(ax1, cmap=cmap,norm=norm,orientation='vertical')\n",
    "cb1.set_label('s(%)',rotation=0,fontsize=18)\n",
    "cb1.ax.tick_params(labelsize=14)\n",
    "plt.show()"
   ]
  },
  {
   "cell_type": "code",
   "execution_count": null,
   "metadata": {},
   "outputs": [],
   "source": []
  }
 ],
 "metadata": {
  "kernelspec": {
   "display_name": "Python 2",
   "language": "python",
   "name": "python2"
  },
  "language_info": {
   "codemirror_mode": {
    "name": "ipython",
    "version": 2
   },
   "file_extension": ".py",
   "mimetype": "text/x-python",
   "name": "python",
   "nbconvert_exporter": "python",
   "pygments_lexer": "ipython2",
   "version": "2.7.6"
  }
 },
 "nbformat": 4,
 "nbformat_minor": 2
}
